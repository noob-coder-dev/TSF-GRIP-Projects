{
  "nbformat": 4,
  "nbformat_minor": 0,
  "metadata": {
    "colab": {
      "name": "TSF | Task 1 | Prediction Using Supervised ML.ipynb",
      "provenance": []
    },
    "kernelspec": {
      "name": "python3",
      "display_name": "Python 3"
    },
    "language_info": {
      "name": "python"
    }
  },
  "cells": [
    {
      "cell_type": "markdown",
      "metadata": {
        "id": "Fb8ICQxEdDZc"
      },
      "source": [
        "# **The Sparks Foundation**\n",
        "# **Data Science and Business Analytics**\n",
        "# by **Manojit Roy**\n",
        "# Task #1"
      ]
    },
    {
      "cell_type": "markdown",
      "metadata": {
        "id": "yrMXpv8Xnfoz"
      },
      "source": [
        "## Importing the Libraries"
      ]
    },
    {
      "cell_type": "code",
      "metadata": {
        "id": "mmx7b0Wlc0qR"
      },
      "source": [
        "import pandas as pd\n",
        "import numpy as np\n",
        "import matplotlib.pyplot as plt"
      ],
      "execution_count": 1,
      "outputs": []
    },
    {
      "cell_type": "markdown",
      "metadata": {
        "id": "7qF3FveDnvNC"
      },
      "source": [
        "## Creating the DataFrame"
      ]
    },
    {
      "cell_type": "code",
      "metadata": {
        "id": "esENSdBLdcWS"
      },
      "source": [
        "data = pd.read_csv('/content/drive/MyDrive/student_scores - student_scores.csv')"
      ],
      "execution_count": 2,
      "outputs": []
    },
    {
      "cell_type": "code",
      "metadata": {
        "colab": {
          "base_uri": "https://localhost:8080/",
          "height": 203
        },
        "id": "I65giLANeFpW",
        "outputId": "45794c54-bf22-48b7-db51-9bb022462279"
      },
      "source": [
        "data.head() # printing the whole dataset"
      ],
      "execution_count": 3,
      "outputs": [
        {
          "output_type": "execute_result",
          "data": {
            "text/html": [
              "<div>\n",
              "<style scoped>\n",
              "    .dataframe tbody tr th:only-of-type {\n",
              "        vertical-align: middle;\n",
              "    }\n",
              "\n",
              "    .dataframe tbody tr th {\n",
              "        vertical-align: top;\n",
              "    }\n",
              "\n",
              "    .dataframe thead th {\n",
              "        text-align: right;\n",
              "    }\n",
              "</style>\n",
              "<table border=\"1\" class=\"dataframe\">\n",
              "  <thead>\n",
              "    <tr style=\"text-align: right;\">\n",
              "      <th></th>\n",
              "      <th>Hours</th>\n",
              "      <th>Scores</th>\n",
              "    </tr>\n",
              "  </thead>\n",
              "  <tbody>\n",
              "    <tr>\n",
              "      <th>0</th>\n",
              "      <td>2.5</td>\n",
              "      <td>21</td>\n",
              "    </tr>\n",
              "    <tr>\n",
              "      <th>1</th>\n",
              "      <td>5.1</td>\n",
              "      <td>47</td>\n",
              "    </tr>\n",
              "    <tr>\n",
              "      <th>2</th>\n",
              "      <td>3.2</td>\n",
              "      <td>27</td>\n",
              "    </tr>\n",
              "    <tr>\n",
              "      <th>3</th>\n",
              "      <td>8.5</td>\n",
              "      <td>75</td>\n",
              "    </tr>\n",
              "    <tr>\n",
              "      <th>4</th>\n",
              "      <td>3.5</td>\n",
              "      <td>30</td>\n",
              "    </tr>\n",
              "  </tbody>\n",
              "</table>\n",
              "</div>"
            ],
            "text/plain": [
              "   Hours  Scores\n",
              "0    2.5      21\n",
              "1    5.1      47\n",
              "2    3.2      27\n",
              "3    8.5      75\n",
              "4    3.5      30"
            ]
          },
          "metadata": {
            "tags": []
          },
          "execution_count": 3
        }
      ]
    },
    {
      "cell_type": "markdown",
      "metadata": {
        "id": "I9iXa1plui-1"
      },
      "source": [
        "## Visualizing the dataset"
      ]
    },
    {
      "cell_type": "code",
      "metadata": {
        "colab": {
          "base_uri": "https://localhost:8080/",
          "height": 590
        },
        "id": "9caYoNetumd8",
        "outputId": "26ed0b33-3530-4faa-ccef-07965455e2cb"
      },
      "source": [
        "\n",
        "plt.figure(figsize=(5,5), dpi=120)\n",
        "plt.scatter(data['Hours'], data['Scores'])\n",
        "plt.xlabel('Hours studied in a day')\n",
        "plt.ylabel('Scores(%) obtained')\n",
        "plt.title('Scores Vs. Marks')"
      ],
      "execution_count": 4,
      "outputs": [
        {
          "output_type": "execute_result",
          "data": {
            "text/plain": [
              "Text(0.5, 1.0, 'Scores Vs. Marks')"
            ]
          },
          "metadata": {
            "tags": []
          },
          "execution_count": 4
        },
        {
          "output_type": "display_data",
          "data": {
            "image/png": "[encoded data removed]",
            "text/plain": [
              "<Figure size 600x600 with 1 Axes>"
            ]
          },
          "metadata": {
            "tags": [],
            "needs_background": "light"
          }
        }
      ]
    },
    {
      "cell_type": "markdown",
      "metadata": {
        "id": "N8e9Bo0doGtP"
      },
      "source": [
        "# Splitting the DataFrame Object into forcaster Series object and target Series Object.\n"
      ]
    },
    {
      "cell_type": "code",
      "metadata": {
        "id": "FYUx6_oueGdz"
      },
      "source": [
        "X = np.array(data['Hours'])\n",
        "y = np.array(data['Scores'])"
      ],
      "execution_count": 5,
      "outputs": []
    },
    {
      "cell_type": "code",
      "metadata": {
        "colab": {
          "base_uri": "https://localhost:8080/"
        },
        "id": "sE76JiSsuSJI",
        "outputId": "2d7c97f1-9c21-495d-e114-b71e9831631c"
      },
      "source": [
        "from sklearn.model_selection import train_test_split\n",
        "X_train, X_test, y_train, y_test = train_test_split(X, y, test_size=0.2, random_state = 42)\n",
        "X_train.shape, y_train.shape, X_test.shape, y_test.shape"
      ],
      "execution_count": 6,
      "outputs": [
        {
          "output_type": "execute_result",
          "data": {
            "text/plain": [
              "((20,), (20,), (5,), (5,))"
            ]
          },
          "metadata": {
            "tags": []
          },
          "execution_count": 6
        }
      ]
    },
    {
      "cell_type": "markdown",
      "metadata": {
        "id": "sFuLv4OSo3rS"
      },
      "source": [
        "## Importing the LinearRegression class from Scikit Learn"
      ]
    },
    {
      "cell_type": "code",
      "metadata": {
        "id": "aAydpZPdh98F"
      },
      "source": [
        "from sklearn.linear_model import LinearRegression\n",
        "lin_reg = LinearRegression()"
      ],
      "execution_count": 7,
      "outputs": []
    },
    {
      "cell_type": "markdown",
      "metadata": {
        "id": "HHeGDxJOpQqE"
      },
      "source": [
        "## Fitting the model with our training dataset"
      ]
    },
    {
      "cell_type": "code",
      "metadata": {
        "colab": {
          "base_uri": "https://localhost:8080/"
        },
        "id": "sIjWF8A3h-v8",
        "outputId": "d413eec3-5e22-413b-879d-07c5ded795b0"
      },
      "source": [
        "lin_reg.fit(X_train.reshape(-1,1),y_train)"
      ],
      "execution_count": 8,
      "outputs": [
        {
          "output_type": "execute_result",
          "data": {
            "text/plain": [
              "LinearRegression(copy_X=True, fit_intercept=True, n_jobs=None, normalize=False)"
            ]
          },
          "metadata": {
            "tags": []
          },
          "execution_count": 8
        }
      ]
    },
    {
      "cell_type": "markdown",
      "metadata": {
        "id": "Aa9lBO0ypVgV"
      },
      "source": [
        "## Printing the parameter of our hypothesis function"
      ]
    },
    {
      "cell_type": "code",
      "metadata": {
        "colab": {
          "base_uri": "https://localhost:8080/"
        },
        "id": "c6uKxEM2iUxM",
        "outputId": "b5e302da-bfcc-462b-d9c6-743c640994c9"
      },
      "source": [
        "lin_reg.intercept_, lin_reg.coef_"
      ],
      "execution_count": 9,
      "outputs": [
        {
          "output_type": "execute_result",
          "data": {
            "text/plain": [
              "(2.826892353899737, array([9.68207815]))"
            ]
          },
          "metadata": {
            "tags": []
          },
          "execution_count": 9
        }
      ]
    },
    {
      "cell_type": "markdown",
      "metadata": {
        "id": "kCrkmZLM5LPY"
      },
      "source": [
        "## Predicting the testset"
      ]
    },
    {
      "cell_type": "code",
      "metadata": {
        "id": "TAhK4jnM48Th"
      },
      "source": [
        "y_pred_test = lin_reg.predict(X_test.reshape(-1,1))"
      ],
      "execution_count": 10,
      "outputs": []
    },
    {
      "cell_type": "markdown",
      "metadata": {
        "id": "BNQTno-nxNfE"
      },
      "source": [
        "## Plotting the regression line on our dataset"
      ]
    },
    {
      "cell_type": "code",
      "metadata": {
        "colab": {
          "base_uri": "https://localhost:8080/",
          "height": 590
        },
        "id": "VqGdAWvAxU0d",
        "outputId": "94fc2bd6-6169-4916-e1dd-4268906f75f3"
      },
      "source": [
        "plt.figure(figsize=(5,5), dpi=120)\n",
        "y_pred = lin_reg.intercept_ + lin_reg.coef_*X\n",
        "plt.scatter(X, y)\n",
        "plt.plot(X,y_pred,\"r-\")\n",
        "plt.title('Prediction line evaluated by Linear Regression Model')\n",
        "plt.xlabel('Hours studied in a day')\n",
        "plt.ylabel('Scores obtained')"
      ],
      "execution_count": 11,
      "outputs": [
        {
          "output_type": "execute_result",
          "data": {
            "text/plain": [
              "Text(0, 0.5, 'Scores obtained')"
            ]
          },
          "metadata": {
            "tags": []
          },
          "execution_count": 11
        },
        {
          "output_type": "display_data",
          "data": {
            "image/png": "[encoded data removed]",
            "text/plain": [
              "<Figure size 600x600 with 1 Axes>"
            ]
          },
          "metadata": {
            "tags": [],
            "needs_background": "light"
          }
        }
      ]
    },
    {
      "cell_type": "markdown",
      "metadata": {
        "id": "8-Jcl-OMzp7B"
      },
      "source": [
        "## Linear Regression using SGDRegressor Class of sklearn"
      ]
    },
    {
      "cell_type": "code",
      "metadata": {
        "colab": {
          "base_uri": "https://localhost:8080/"
        },
        "id": "2iObXWX4xUqq",
        "outputId": "ce0574f0-3371-41ab-e9e9-bd6378cbfa93"
      },
      "source": [
        "from sklearn.linear_model import SGDRegressor\n",
        "sgd_reg = SGDRegressor(max_iter=1000, tol=1e-3, penalty=None, eta0=0.1)\n",
        "sgd_reg.fit(X_train.reshape(-1,1),y_train.ravel())"
      ],
      "execution_count": 12,
      "outputs": [
        {
          "output_type": "execute_result",
          "data": {
            "text/plain": [
              "SGDRegressor(alpha=0.0001, average=False, early_stopping=False, epsilon=0.1,\n",
              "             eta0=0.1, fit_intercept=True, l1_ratio=0.15,\n",
              "             learning_rate='invscaling', loss='squared_loss', max_iter=1000,\n",
              "             n_iter_no_change=5, penalty=None, power_t=0.25, random_state=None,\n",
              "             shuffle=True, tol=0.001, validation_fraction=0.1, verbose=0,\n",
              "             warm_start=False)"
            ]
          },
          "metadata": {
            "tags": []
          },
          "execution_count": 12
        }
      ]
    },
    {
      "cell_type": "markdown",
      "metadata": {
        "id": "PajrSQ4oz_mL"
      },
      "source": [
        "## Printing the parameters of our hypothesis function"
      ]
    },
    {
      "cell_type": "code",
      "metadata": {
        "colab": {
          "base_uri": "https://localhost:8080/"
        },
        "id": "_uCArEVaz6oT",
        "outputId": "f4df51c6-5956-4c78-b015-0f59deabbbd2"
      },
      "source": [
        "sgd_reg.intercept_, sgd_reg.coef_"
      ],
      "execution_count": 13,
      "outputs": [
        {
          "output_type": "execute_result",
          "data": {
            "text/plain": [
              "(array([2.62236754]), array([11.25393393]))"
            ]
          },
          "metadata": {
            "tags": []
          },
          "execution_count": 13
        }
      ]
    },
    {
      "cell_type": "markdown",
      "metadata": {
        "id": "pXQmcuEJ5UOl"
      },
      "source": [
        "## Prediciting the TestSet"
      ]
    },
    {
      "cell_type": "code",
      "metadata": {
        "id": "0a6ud9Hj5X6Z"
      },
      "source": [
        "y_pred_test_sgd = sgd_reg.predict(X_test.reshape(-1,1))"
      ],
      "execution_count": 14,
      "outputs": []
    },
    {
      "cell_type": "markdown",
      "metadata": {
        "id": "mmdTZps20hvo"
      },
      "source": [
        "## Comparative Analysis of the above two linear models"
      ]
    },
    {
      "cell_type": "code",
      "metadata": {
        "id": "bin0skWH0ou6"
      },
      "source": [
        "from sklearn.metrics import mean_squared_error\n"
      ],
      "execution_count": 15,
      "outputs": []
    },
    {
      "cell_type": "code",
      "metadata": {
        "colab": {
          "base_uri": "https://localhost:8080/"
        },
        "id": "42JrE7dC1AUX",
        "outputId": "1015712e-cdb6-4306-a777-52d99512061c"
      },
      "source": [
        "np.sqrt(mean_squared_error(y_test, y_pred_test)), np.sqrt(mean_squared_error(y_test, y_pred_test_sgd))"
      ],
      "execution_count": 16,
      "outputs": [
        {
          "output_type": "execute_result",
          "data": {
            "text/plain": [
              "(4.352380006653288, 8.82312630748487)"
            ]
          },
          "metadata": {
            "tags": []
          },
          "execution_count": 16
        }
      ]
    },
    {
      "cell_type": "markdown",
      "metadata": {
        "id": "zEXWWfHZAwwv"
      },
      "source": [
        "* Hence, the Stochastic Gradient Descent algorithm based model works well comparatively."
      ]
    },
    {
      "cell_type": "markdown",
      "metadata": {
        "id": "_P1dLaTJpdfN"
      },
      "source": [
        "## Predicting marks for a score value = 9.25 Hours"
      ]
    },
    {
      "cell_type": "code",
      "metadata": {
        "colab": {
          "base_uri": "https://localhost:8080/"
        },
        "id": "ErG4g5pMj8Dl",
        "outputId": "6fb894bf-f2ce-448a-d6dd-02fab746b002"
      },
      "source": [
        "lin_reg.predict(np.array(9.25).reshape(-1,1))"
      ],
      "execution_count": 17,
      "outputs": [
        {
          "output_type": "execute_result",
          "data": {
            "text/plain": [
              "array([92.38611528])"
            ]
          },
          "metadata": {
            "tags": []
          },
          "execution_count": 17
        }
      ]
    },
    {
      "cell_type": "markdown",
      "metadata": {
        "id": "j5xkoOysptgq"
      },
      "source": [
        "* According to our LinearRegression Class based model, a student who studys for 9.25 hours a day can score 93% more or less."
      ]
    },
    {
      "cell_type": "code",
      "metadata": {
        "colab": {
          "base_uri": "https://localhost:8080/"
        },
        "id": "oTorD1S1BpGA",
        "outputId": "e0950855-9d2e-4bf6-f0ce-0adf9ebeaaff"
      },
      "source": [
        "sgd_reg.predict(np.array(9.25).reshape(-1,1))"
      ],
      "execution_count": 18,
      "outputs": [
        {
          "output_type": "execute_result",
          "data": {
            "text/plain": [
              "array([106.72125636])"
            ]
          },
          "metadata": {
            "tags": []
          },
          "execution_count": 18
        }
      ]
    },
    {
      "cell_type": "markdown",
      "metadata": {
        "id": "kw7s9J0vCf3k"
      },
      "source": [
        "* According to our Stochastic Gradient Descent, a student who studys for 9.25 Hours a day can score 96%(approximately).\n",
        "\n"
      ]
    }
  ]
}